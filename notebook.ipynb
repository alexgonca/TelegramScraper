{
 "nbformat": 4,
 "nbformat_minor": 0,
 "metadata": {
  "colab": {
   "provenance": []
  },
  "kernelspec": {
   "name": "python3",
   "display_name": "Python 3 (ipykernel)",
   "language": "python"
  },
  "language_info": {
   "name": "python"
  }
 },
 "cells": [
  {
   "cell_type": "markdown",
   "source": [
    "# Extract Telegram Posts\n",
    "\n",
    "- Execute the code below to extract posts from any Telegram channel you specify.\n",
    "- You can also set the number of posts to retrieve."
   ],
   "metadata": {
    "id": "CUzO4UiJ2Ntx"
   }
  },
  {
   "cell_type": "code",
   "source": [
    "TELEGRAM_CHANNEL = input(\"Enter the Telegram channel:\")\n",
    "MAX_RESULTS = int(input(\"How many posts would you like to extract? Type 0 (zero) to retrieve all posts.\"))\n",
    "\n",
    "if MAX_RESULTS != 0 :\n",
    "    !snscrape --jsonl --progress --max-results $MAX_RESULTS telegram-channel $TELEGRAM_CHANNEL > ./{TELEGRAM_CHANNEL}.jsonl\n",
    "else:\n",
    "    !snscrape --jsonl --progress telegram-channel $TELEGRAM_CHANNEL > ./{TELEGRAM_CHANNEL}.jsonl\n",
    "\n",
    "!./flatjsonl -csv ./{TELEGRAM_CHANNEL}.csv ./{TELEGRAM_CHANNEL}.jsonl"
   ],
   "metadata": {
    "id": "iSEyC3IhyatC"
   },
   "outputs": [],
   "execution_count": null
  },
  {
   "cell_type": "markdown",
   "source": [
    "# Download CSV File and Submit on Canvas\n",
    "\n",
    "- Click the File Browser icon in the top left corner.\n",
    "- Locate and download the CSV file (it will be named after your channel).\n",
    "- Upload the file to Canvas.\n"
   ],
   "metadata": {
    "id": "rT6DQFfR4ao7"
   }
  }
 ]
}
