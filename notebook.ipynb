{
 "nbformat": 4,
 "nbformat_minor": 0,
 "metadata": {
  "colab": {
   "provenance": []
  },
  "kernelspec": {
   "name": "python3",
   "display_name": "Python 3"
  },
  "language_info": {
   "name": "python"
  }
 },
 "cells": [
  {
   "cell_type": "markdown",
   "source": [
    "# Extract Telegram posts\n",
    "\n",
    "The following line of code will extract all the posts from a Telegram channel called `iPapkorn` (a group about cinema from India).\n",
    "\n",
    "If you want to extract a different Telegram channel, just replace `iPapkorn` with the name of the Telegram channel of your choice. The output file `ipapkorn.json` is currently named after the Telegram channel. You can change it to another name."
   ],
   "metadata": {
    "id": "CUzO4UiJ2Ntx"
   }
  },
  {
   "cell_type": "code",
   "source": [
    "TELEGRAM_CHANNEL = \"iPapkorn\"  # @param {type:\"string\", placeholder:\"enter the channel name\"}\n",
    "MAX_RESULTS = 0   # @param {type:\"integer\"}\n",
    "\n",
    "if MAX_RESULTS != 0 :\n",
    "  !snscrape --jsonl --progress --max-results $MAX_RESULTS telegram-channel $TELEGRAM_CHANNEL > ./{TELEGRAM_CHANNEL}.jsonl\n",
    "else:\n",
    "  !snscrape --jsonl --progress telegram-channel $TELEGRAM_CHANNEL > ./{TELEGRAM_CHANNEL}.jsonl"
   ],
   "metadata": {
    "id": "iSEyC3IhyatC"
   },
   "execution_count": null,
   "outputs": []
  },
  {
   "cell_type": "markdown",
   "source": [
    "# Convert JSON to CSV\n",
    "\n",
    "`snscrape` will save the data from the Telegram channel as a JSON. We need to convert it to CSV in order to be able to open it on Excel or Google Sheets. For this we will use `flatjsonl`. You can change the names of the files based on the name of the Telegram channel. Just remember: the JSON file must have the same name as the JSON file in the previous command.\n"
   ],
   "metadata": {
    "id": "rT6DQFfR4ao7"
   }
  },
  {
   "cell_type": "code",
   "source": "!./flatjsonl -csv ./{TELEGRAM_CHANNEL}.csv ./{TELEGRAM_CHANNEL}.jsonl",
   "metadata": {
    "id": "0h6RhgFozRNz"
   },
   "execution_count": null,
   "outputs": []
  }
 ]
}
